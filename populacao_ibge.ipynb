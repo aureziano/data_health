{
 "cells": [
  {
   "cell_type": "markdown",
   "metadata": {},
   "source": [
    "### Dados populacionais IBGE (SIDRA)"
   ]
  },
  {
   "cell_type": "code",
   "execution_count": null,
   "metadata": {
    "vscode": {
     "languageId": "plaintext"
    }
   },
   "outputs": [],
   "source": [
    "# https://dkko.me/posts/coletando-ibge-sidra-populacao-municipios/\n",
    "\n",
    "def get_periodos(agregado: str):\n",
    "    url = f\"https://servicodados.ibge.gov.br/api/v3/agregados/{agregado}/periodos\"\n",
    "    response = requests.get(url)\n",
    "    return response.json()"
   ]
  },
  {
   "cell_type": "code",
   "execution_count": null,
   "metadata": {
    "vscode": {
     "languageId": "plaintext"
    }
   },
   "outputs": [],
   "source": [
    "def download_table(\n",
    "    sidra_tabela: str,\n",
    "    territorial_level: str,\n",
    "    ibge_territorial_code: str,\n",
    "    variable: str = \"allxp\",\n",
    "    classifications: dict = None,\n",
    "    data_dir: Path = Path(\"data\"),\n",
    ") -> list[Path]:\n",
    "    \"\"\"Download a SIDRA table in CSV format on temp_dir()\n",
    "\n",
    "    Args:\n",
    "        sidra_tabela (str): SIDRA table code\n",
    "        territorial_level (str): territorial level code\n",
    "        ibge_territorial_code (str): IBGE territorial code\n",
    "        variable (str, optional): variable code. Defaults to None.\n",
    "        classifications (dict, optional): classifications and categories codes.\n",
    "            Defaults to None.\n",
    "\n",
    "    Returns:\n",
    "        list[Path]: list of downloaded files\n",
    "    \"\"\"\n",
    "    filepaths = []\n",
    "    periodos = get_periodos(sidra_tabela)\n",
    "    for periodo in periodos:\n",
    "        filename = f\"{periodo['id']}.csv\"\n",
    "        dest_filepath = data_dir / filename\n",
    "        dest_filepath.parent.mkdir(exist_ok=True, parents=True)\n",
    "        if dest_filepath.exists():\n",
    "            print(\"File already exists:\", dest_filepath)\n",
    "            continue\n",
    "        print(\"Downloading\", filename)\n",
    "        df = sidrapy.get_table(\n",
    "            table_code=sidra_tabela,  # Tabela SIDRA\n",
    "            territorial_level=territorial_level,  # Nível de Municípios\n",
    "            ibge_territorial_code=ibge_territorial_code,  # Territórios\n",
    "            period=periodo[\"id\"],  # Período\n",
    "            variable=variable,  # Variáveis\n",
    "            classifications=classifications,\n",
    "        )\n",
    "        df.to_csv(dest_filepath, index=False, encoding=\"utf-8\")\n",
    "        filepaths.append(dest_filepath)\n",
    "    return filepaths\n"
   ]
  },
  {
   "cell_type": "code",
   "execution_count": null,
   "metadata": {
    "vscode": {
     "languageId": "plaintext"
    }
   },
   "outputs": [],
   "source": [
    "data_dir = Path(\"data\")\n",
    "data_dir.mkdir(parents=True, exist_ok=True)\n",
    "files = []"
   ]
  },
  {
   "cell_type": "markdown",
   "metadata": {},
   "source": [
    "#### População dos Censos 1970, 1980, 1991, 2000 e 2010 (Tabela 200)"
   ]
  },
  {
   "cell_type": "code",
   "execution_count": null,
   "metadata": {
    "vscode": {
     "languageId": "plaintext"
    }
   },
   "outputs": [],
   "source": [
    "# Populacao Censos\n",
    "sidra_tabela = \"200\"\n",
    "territorial_level = \"6\"\n",
    "ibge_territorial_code = \"all\"\n",
    "\n",
    "files_census = download_table(\n",
    "    sidra_tabela=sidra_tabela,\n",
    "    territorial_level=territorial_level,\n",
    "    ibge_territorial_code=ibge_territorial_code,\n",
    "    variable=\"allxp\",\n",
    "    classifications={\"2\": \"0\", \"1\": \"0\", \"58\": \"0\"},\n",
    "    data_dir=data_dir,\n",
    ")\n",
    "files.extend(files_census)"
   ]
  },
  {
   "cell_type": "markdown",
   "metadata": {},
   "source": [
    "#### População dos municípios do Brasil em 2022 (Tabela 9514)"
   ]
  },
  {
   "cell_type": "code",
   "execution_count": null,
   "metadata": {
    "vscode": {
     "languageId": "plaintext"
    }
   },
   "outputs": [],
   "source": [
    "# Populacao Censo 2022\n",
    "sidra_tabela = \"9514\"\n",
    "territorial_level = \"6\"\n",
    "ibge_territorial_code = \"all\"\n",
    "\n",
    "files_census_2022 = download_table(\n",
    "    sidra_tabela=sidra_tabela,\n",
    "    territorial_level=territorial_level,\n",
    "    ibge_territorial_code=ibge_territorial_code,\n",
    "    variable=\"allxp\",\n",
    "    classifications={\"2\": \"6794\", \"287\": \"100362\", \"286\": \"113635\"},\n",
    "    data_dir=data_dir,\n",
    ")\n",
    "files.extend(files_census_2022)"
   ]
  },
  {
   "cell_type": "markdown",
   "metadata": {},
   "source": [
    "#### População das Contagens (Tabelas 305 e 793)"
   ]
  },
  {
   "cell_type": "code",
   "execution_count": null,
   "metadata": {
    "vscode": {
     "languageId": "plaintext"
    }
   },
   "outputs": [],
   "source": [
    "# Populacao Contagens\n",
    "sidra_tabelas = (\n",
    "    \"305\",\n",
    "    \"793\",\n",
    ")\n",
    "\n",
    "for sidra_tabela in sidra_tabelas:\n",
    "    files_counts = download_table(\n",
    "        sidra_tabela=sidra_tabela,\n",
    "        territorial_level=territorial_level,\n",
    "        ibge_territorial_code=ibge_territorial_code,\n",
    "        data_dir=data_dir,\n",
    "    )\n",
    "    files.extend(files_counts)"
   ]
  },
  {
   "cell_type": "markdown",
   "metadata": {},
   "source": [
    "#### Populacao Estimativas (Tabela 6579)"
   ]
  },
  {
   "cell_type": "code",
   "execution_count": null,
   "metadata": {
    "vscode": {
     "languageId": "plaintext"
    }
   },
   "outputs": [],
   "source": [
    "# Populacao Estimativas\n",
    "sidra_tabela = \"6579\"\n",
    "\n",
    "files_estimates = download_table(\n",
    "    sidra_tabela=sidra_tabela,\n",
    "    territorial_level=territorial_level,\n",
    "    ibge_territorial_code=ibge_territorial_code,\n",
    "    data_dir=data_dir,\n",
    ")\n",
    "files.extend(files_estimates)"
   ]
  },
  {
   "cell_type": "code",
   "execution_count": null,
   "metadata": {
    "vscode": {
     "languageId": "plaintext"
    }
   },
   "outputs": [],
   "source": [
    "import pandas as pd\n",
    "\n",
    "def read_file(filepath: Path, **read_csv_args) -> pd.DataFrame:\n",
    "    print(\"Reading file\", filepath)\n",
    "    data = pd.read_csv(filepath, skiprows=1, na_values=[\"...\", \"-\"], **read_csv_args)\n",
    "    data = data.dropna(subset=\"Valor\")\n",
    "    return data\n",
    "\n",
    "def refine(df: pd.DataFrame) -> pd.DataFrame:\n",
    "    df = (\n",
    "        df.dropna(subset=\"Valor\")\n",
    "        .rename(\n",
    "            columns={\n",
    "                \"Ano\": \"ano\",\n",
    "                \"Município (Código)\": \"id_municipio\",\n",
    "                \"Valor\": \"pessoas\",\n",
    "            }\n",
    "        )\n",
    "        .assign(pessoas=lambda x: x[\"pessoas\"].astype(int))\n",
    "    )\n",
    "    df[[\"nome_municipio\", \"sigla_uf\"]] = df[\"Município\"].str.split(\" - \", expand=True)\n",
    "    df = df.drop(columns=\"Município\")\n",
    "    df = df[[\"ano\", \"id_municipio\", \"nome_municipio\", \"sigla_uf\", \"pessoas\"]]\n",
    "    return df\n"
   ]
  },
  {
   "cell_type": "code",
   "execution_count": null,
   "metadata": {
    "vscode": {
     "languageId": "plaintext"
    }
   },
   "outputs": [],
   "source": [
    "df = refine(\n",
    "    pd.concat(\n",
    "        (\n",
    "            read_file(file, usecols=(\"Ano\", \"Município (Código)\", \"Município\", \"Valor\"))\n",
    "            for file in files\n",
    "        ),\n",
    "        ignore_index=True,\n",
    "    )\n",
    ")\n"
   ]
  },
  {
   "cell_type": "code",
   "execution_count": null,
   "metadata": {
    "vscode": {
     "languageId": "plaintext"
    }
   },
   "outputs": [],
   "source": [
    "df.head()\n",
    "df.info()"
   ]
  },
  {
   "cell_type": "markdown",
   "metadata": {},
   "source": [
    "#### Salvando os dados de todos os anos em um único arquivo"
   ]
  },
  {
   "cell_type": "code",
   "execution_count": null,
   "metadata": {
    "vscode": {
     "languageId": "plaintext"
    }
   },
   "outputs": [],
   "source": [
    "df.to_csv(\"populacao_municipios.csv\", index=False, encoding=\"utf-8\")"
   ]
  },
  {
   "cell_type": "markdown",
   "metadata": {},
   "source": [
    "#### Gráficos"
   ]
  },
  {
   "cell_type": "code",
   "execution_count": null,
   "metadata": {
    "vscode": {
     "languageId": "plaintext"
    }
   },
   "outputs": [],
   "source": []
  }
 ],
 "metadata": {
  "language_info": {
   "name": "python"
  }
 },
 "nbformat": 4,
 "nbformat_minor": 2
}
